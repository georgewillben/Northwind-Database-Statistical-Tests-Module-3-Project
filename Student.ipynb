{
 "cells": [
  {
   "cell_type": "markdown",
   "metadata": {},
   "source": [
    "George Bennett\n"
   ]
  },
  {
   "cell_type": "markdown",
   "metadata": {},
   "source": [
    "In this project I will be answering four questions about the Northwind database using statistical tests: <br>\n",
    "* Does discount amount have a statistically significant effect on the quantity of a product in an order? If so, at what level(s) of discount?\n",
    "* Do different shippers have different freight costs?\n",
    "* Is there a statistically significant difference in demand of produce each month?\n",
    "* Do products in the Meat/Poultry category have a higher unit price than products in the Seafood category?"
   ]
  },
  {
   "cell_type": "markdown",
   "metadata": {},
   "source": [
    "To begin this project I will import necessary libraries and take a look at the database's table names and the database ERD"
   ]
  },
  {
   "cell_type": "markdown",
   "metadata": {},
   "source": [
    "Import Libraries"
   ]
  },
  {
   "cell_type": "code",
   "execution_count": 40,
   "metadata": {},
   "outputs": [],
   "source": [
    "import numpy as np\n",
    "import pandas as pd\n",
    "import sqlite3\n",
    "import matplotlib.pyplot as plt\n",
    "%matplotlib inline\n",
    "import seaborn as sns\n",
    "import scipy.stats as stats\n",
    "from statsmodels.formula.api import ols\n",
    "import statsmodels.api as sm"
   ]
  },
  {
   "cell_type": "markdown",
   "metadata": {},
   "source": [
    "Here I will create a connection to the database"
   ]
  },
  {
   "cell_type": "code",
   "execution_count": 41,
   "metadata": {},
   "outputs": [],
   "source": [
    "conn = sqlite3.connect(\"Northwind_small.sqlite\")\n",
    "c = conn.cursor()"
   ]
  },
  {
   "cell_type": "markdown",
   "metadata": {},
   "source": [
    "Then I will find the table names"
   ]
  },
  {
   "cell_type": "code",
   "execution_count": 42,
   "metadata": {
    "scrolled": true
   },
   "outputs": [
    {
     "data": {
      "text/plain": [
       "[('Employee',),\n",
       " ('Category',),\n",
       " ('Customer',),\n",
       " ('Shipper',),\n",
       " ('Supplier',),\n",
       " ('Order',),\n",
       " ('Product',),\n",
       " ('OrderDetail',),\n",
       " ('CustomerCustomerDemo',),\n",
       " ('CustomerDemographic',),\n",
       " ('Region',),\n",
       " ('Territory',),\n",
       " ('EmployeeTerritory',)]"
      ]
     },
     "execution_count": 42,
     "metadata": {},
     "output_type": "execute_result"
    }
   ],
   "source": [
    "query = \"\"\"\n",
    "SELECT name FROM sqlite_master WHERE type = \"table\"\n",
    "\"\"\"\n",
    "c.execute(query).fetchall()"
   ]
  },
  {
   "cell_type": "markdown",
   "metadata": {},
   "source": [
    "View ERD"
   ]
  },
  {
   "cell_type": "markdown",
   "metadata": {},
   "source": [
    "<img src=\"Northwind_ERD_updated.png\">"
   ]
  },
  {
   "cell_type": "markdown",
   "metadata": {},
   "source": [
    "Here I will place a helper function to help me calculate cohen's d later on. I found this function in the curriculum, but also at https://github.com/ganevniko/dsc-2-final-project-online-ds-sp-000/blob/master/Project%202%20Student.ipynb\n"
   ]
  },
  {
   "cell_type": "code",
   "execution_count": 77,
   "metadata": {},
   "outputs": [],
   "source": [
    "# This cell of code taken from https://github.com/ganevniko/dsc-2-final-project-online-ds-sp-000/blob/master/Project%202%20Student.ipynb\n",
    "def cohens_d(a, b):\n",
    "    difference_of_means = abs(np.mean(a) - np.mean(b))\n",
    "    na, nb = len(a), len(b)\n",
    "    vara, varb = np.var(a), np.var(b)\n",
    "    pooled_variance = (na * vara + nb * varb)/(na+nb)\n",
    "    d = difference_of_means / np.sqrt(pooled_variance)\n",
    "    return d"
   ]
  },
  {
   "cell_type": "markdown",
   "metadata": {},
   "source": [
    "# Question 1: Does discount amount have a statistically significant effect on the quantity of a product in an order? If so, at what level(s) of discount?"
   ]
  },
  {
   "cell_type": "markdown",
   "metadata": {},
   "source": [
    "Some of the code for this question was copied from https://github.com/arcaputo3/dsc-2-final-project-online-ds-sp-000/blob/master/project.ipynb and some was copied from https://github.com/ganevniko/dsc-2-final-project-online-ds-sp-000/blob/master/Project%202%20Student.ipynb"
   ]
  },
  {
   "cell_type": "markdown",
   "metadata": {},
   "source": [
    "To answer this question I will need to first obtain the data. I will query from the OrderDetail table. The Columns I need from OrderDetail are Quantity and Discount. Finally I will put the data into a pandas DataFrame."
   ]
  },
  {
   "cell_type": "code",
   "execution_count": 44,
   "metadata": {},
   "outputs": [
    {
     "name": "stdout",
     "output_type": "stream",
     "text": [
      "<class 'pandas.core.frame.DataFrame'>\n",
      "RangeIndex: 2155 entries, 0 to 2154\n",
      "Data columns (total 2 columns):\n",
      "Quantity    2155 non-null int64\n",
      "Discount    2155 non-null float64\n",
      "dtypes: float64(1), int64(1)\n",
      "memory usage: 33.8 KB\n",
      "None\n"
     ]
    },
    {
     "data": {
      "text/html": [
       "<div>\n",
       "<style scoped>\n",
       "    .dataframe tbody tr th:only-of-type {\n",
       "        vertical-align: middle;\n",
       "    }\n",
       "\n",
       "    .dataframe tbody tr th {\n",
       "        vertical-align: top;\n",
       "    }\n",
       "\n",
       "    .dataframe thead th {\n",
       "        text-align: right;\n",
       "    }\n",
       "</style>\n",
       "<table border=\"1\" class=\"dataframe\">\n",
       "  <thead>\n",
       "    <tr style=\"text-align: right;\">\n",
       "      <th></th>\n",
       "      <th>Quantity</th>\n",
       "      <th>Discount</th>\n",
       "    </tr>\n",
       "  </thead>\n",
       "  <tbody>\n",
       "    <tr>\n",
       "      <th>0</th>\n",
       "      <td>12</td>\n",
       "      <td>0.0</td>\n",
       "    </tr>\n",
       "    <tr>\n",
       "      <th>1</th>\n",
       "      <td>10</td>\n",
       "      <td>0.0</td>\n",
       "    </tr>\n",
       "    <tr>\n",
       "      <th>2</th>\n",
       "      <td>5</td>\n",
       "      <td>0.0</td>\n",
       "    </tr>\n",
       "    <tr>\n",
       "      <th>3</th>\n",
       "      <td>9</td>\n",
       "      <td>0.0</td>\n",
       "    </tr>\n",
       "    <tr>\n",
       "      <th>4</th>\n",
       "      <td>40</td>\n",
       "      <td>0.0</td>\n",
       "    </tr>\n",
       "  </tbody>\n",
       "</table>\n",
       "</div>"
      ],
      "text/plain": [
       "   Quantity  Discount\n",
       "0        12       0.0\n",
       "1        10       0.0\n",
       "2         5       0.0\n",
       "3         9       0.0\n",
       "4        40       0.0"
      ]
     },
     "execution_count": 44,
     "metadata": {},
     "output_type": "execute_result"
    }
   ],
   "source": [
    "# This cell of code taken from https://github.com/arcaputo3/dsc-2-final-project-online-ds-sp-000/blob/master/project.ipynb \n",
    "query = \"\"\"\n",
    "SELECT Quantity, Discount FROM OrderDetail\n",
    "\"\"\"\n",
    "df = pd.DataFrame(c.execute(query).fetchall())\n",
    "df.columns = [x[0] for x in c.description]\n",
    "print(df.info())\n",
    "df.head()"
   ]
  },
  {
   "cell_type": "markdown",
   "metadata": {},
   "source": [
    "Now that we have the data, I need to seperate the orders on discounted items from the orders on non-discounted items. I will do this with pandas' slicing method, creating two pandas series with the data."
   ]
  },
  {
   "cell_type": "code",
   "execution_count": 45,
   "metadata": {},
   "outputs": [],
   "source": [
    "# This cell of code taken from https://github.com/arcaputo3/dsc-2-final-project-online-ds-sp-000/blob/master/project.ipynb\n",
    "discount_orders = df[df['Discount'] > 0].Quantity\n",
    "non_discount_orders = df[df['Discount'] == 0].Quantity"
   ]
  },
  {
   "cell_type": "markdown",
   "metadata": {},
   "source": [
    "Now that we have discounted orders and non-discounted orders we can see which has a higher quantity mean."
   ]
  },
  {
   "cell_type": "code",
   "execution_count": 46,
   "metadata": {
    "scrolled": true
   },
   "outputs": [
    {
     "name": "stdout",
     "output_type": "stream",
     "text": [
      "Discount orders quantity mean: 27.11\n",
      "Non-discounted orders quantity mean: 21.72\n"
     ]
    }
   ],
   "source": [
    "print(\"Discount orders quantity mean:\" , round(discount_orders.mean(), 2))\n",
    "print(\"Non-discounted orders quantity mean:\", round(non_discount_orders.mean(), 2))"
   ]
  },
  {
   "cell_type": "markdown",
   "metadata": {},
   "source": [
    "Let's look at a visualization of the two series."
   ]
  },
  {
   "cell_type": "code",
   "execution_count": 47,
   "metadata": {},
   "outputs": [
    {
     "name": "stderr",
     "output_type": "stream",
     "text": [
      "C:\\Users\\zasz\\Anaconda3\\envs\\learn-env\\lib\\site-packages\\scipy\\stats\\stats.py:1713: FutureWarning: Using a non-tuple sequence for multidimensional indexing is deprecated; use `arr[tuple(seq)]` instead of `arr[seq]`. In the future this will be interpreted as an array index, `arr[np.array(seq)]`, which will result either in an error or a different result.\n",
      "  return np.add.reduce(sorted[indexer] * weights, axis=axis) / sumval\n"
     ]
    },
    {
     "data": {
      "image/png": "[encoded data removed]",
      "text/plain": [
       "<Figure size 864x576 with 1 Axes>"
      ]
     },
     "metadata": {
      "needs_background": "light"
     },
     "output_type": "display_data"
    }
   ],
   "source": [
    "# This cell of code was taken from https://github.com/ganevniko/dsc-2-final-project-online-ds-sp-000/blob/master/Project%202%20Student.ipynb\n",
    "plt.figure(figsize=(12, 8))\n",
    "sns.distplot(discount_orders, label='discounted')\n",
    "sns.distplot(non_discount_orders, label='non-discounted')\n",
    "plt.axvline(discount_orders.mean(), c='blue', linestyle = '--', label = 'discounted mean')\n",
    "plt.axvline(non_discount_orders.mean(), c='red', linestyle = '-.', label = 'non-discounted mean')\n",
    "plt.ylabel('Probability Density')\n",
    "plt.legend()\n",
    "plt.show()"
   ]
  },
  {
   "cell_type": "markdown",
   "metadata": {},
   "source": [
    "Here we can see that Discounted orders tend to have more quantity."
   ]
  },
  {
   "cell_type": "markdown",
   "metadata": {},
   "source": [
    "To prove this we can use a statistical test. The alpha will be 0.05. The hypotheses will be as follows:"
   ]
  },
  {
   "cell_type": "markdown",
   "metadata": {},
   "source": [
    "##### Null hypothesis: The means of discounted and non-discounted order quantities are equal <br>\n",
    "##### Alternative hypothesis: The mean of discounted order quantities is greater than the mean of non-discounted order quantities"
   ]
  },
  {
   "cell_type": "markdown",
   "metadata": {},
   "source": [
    "First I need to deturmine whether to use a student's T-test or a Welch's T-test. In order to know I need to check the variances of my two samples with a levene test. If the p-value from the test is over 0.05 then we can say that the variances are not statistically different from each other"
   ]
  },
  {
   "cell_type": "code",
   "execution_count": 48,
   "metadata": {},
   "outputs": [
    {
     "data": {
      "text/plain": [
       "LeveneResult(statistic=14.832671704073421, pvalue=0.00012091378376079568)"
      ]
     },
     "execution_count": 48,
     "metadata": {},
     "output_type": "execute_result"
    }
   ],
   "source": [
    "stats.levene(discount_orders, non_discount_orders)"
   ]
  },
  {
   "cell_type": "markdown",
   "metadata": {},
   "source": [
    "The variances have a statisticaly significant difference."
   ]
  },
  {
   "cell_type": "markdown",
   "metadata": {},
   "source": [
    "Also I need to know the length of both samples"
   ]
  },
  {
   "cell_type": "code",
   "execution_count": 49,
   "metadata": {},
   "outputs": [
    {
     "name": "stdout",
     "output_type": "stream",
     "text": [
      "838 1317\n"
     ]
    }
   ],
   "source": [
    "print(len(discount_orders), len(non_discount_orders))"
   ]
  },
  {
   "cell_type": "markdown",
   "metadata": {},
   "source": [
    "Since the variances are different I will use a Welch's T-test"
   ]
  },
  {
   "cell_type": "markdown",
   "metadata": {},
   "source": [
    "Assumptions for the Welch's T-test are as follows: <br>\n",
    "* Normally distributed data or data of large sample size\n",
    "* Randomly selected independent samples\n",
    "* Unequal variances in the data"
   ]
  },
  {
   "cell_type": "code",
   "execution_count": 50,
   "metadata": {},
   "outputs": [],
   "source": [
    "# this cell of code taken from https://github.com/ganevniko/dsc-2-final-project-online-ds-sp-000/blob/master/Project%202%20Student.ipynb\n",
    "t_stat, p_value = stats.ttest_ind(discount_orders, non_discount_orders, equal_var=False)"
   ]
  },
  {
   "cell_type": "code",
   "execution_count": 51,
   "metadata": {},
   "outputs": [
    {
     "name": "stdout",
     "output_type": "stream",
     "text": [
      "5.65641429030433e-10\n"
     ]
    }
   ],
   "source": [
    "print(p_value)"
   ]
  },
  {
   "cell_type": "markdown",
   "metadata": {},
   "source": [
    "the p-value is below 0.05 so the null hypothesis can be rejected."
   ]
  },
  {
   "cell_type": "markdown",
   "metadata": {},
   "source": [
    "To futher prove this I will calculate effect size (cohen's d)"
   ]
  },
  {
   "cell_type": "code",
   "execution_count": 76,
   "metadata": {},
   "outputs": [
    {
     "data": {
      "text/plain": [
       "0.28641058366376676"
      ]
     },
     "execution_count": 76,
     "metadata": {},
     "output_type": "execute_result"
    }
   ],
   "source": [
    "# this cell of code taken from https://github.com/ganevniko/dsc-2-final-project-online-ds-sp-000/blob/master/Project%202%20Student.ipynb\n",
    "cohens_d(discount_orders, non_discount_orders)"
   ]
  },
  {
   "cell_type": "markdown",
   "metadata": {},
   "source": [
    "An effect size of 0.28 is decently large, signaling that there is a diffrence in the two samples."
   ]
  },
  {
   "cell_type": "markdown",
   "metadata": {},
   "source": [
    "# There is a statistically significant effect of discounts increasing the quantity in orders."
   ]
  },
  {
   "cell_type": "markdown",
   "metadata": {},
   "source": [
    "So, at what levels of discount?"
   ]
  },
  {
   "cell_type": "markdown",
   "metadata": {},
   "source": [
    "To answer this I will first see what the different discount levels are"
   ]
  },
  {
   "cell_type": "code",
   "execution_count": 53,
   "metadata": {},
   "outputs": [
    {
     "data": {
      "text/plain": [
       "array([0.  , 0.15, 0.05, 0.2 , 0.25, 0.1 , 0.02, 0.03, 0.04, 0.06, 0.01])"
      ]
     },
     "execution_count": 53,
     "metadata": {},
     "output_type": "execute_result"
    }
   ],
   "source": [
    "# This cell of code taken from https://github.com/ganevniko/dsc-2-final-project-online-ds-sp-000/blob/master/Project%202%20Student.ipynb\n",
    "df.Discount.unique()"
   ]
  },
  {
   "cell_type": "markdown",
   "metadata": {},
   "source": [
    "Next we will see the amount of orders with each discount level."
   ]
  },
  {
   "cell_type": "code",
   "execution_count": 54,
   "metadata": {},
   "outputs": [
    {
     "name": "stdout",
     "output_type": "stream",
     "text": [
      "0.0 1317\n",
      "0.01 1\n",
      "0.02 2\n",
      "0.03 3\n",
      "0.04 1\n",
      "0.05 185\n",
      "0.06 1\n",
      "0.1 173\n",
      "0.15 157\n",
      "0.2 161\n",
      "0.25 154\n"
     ]
    }
   ],
   "source": [
    "# This cell of code taken from https://github.com/ganevniko/dsc-2-final-project-online-ds-sp-000/blob/master/Project%202%20Student.ipynb\n",
    "for discount_level in sorted(list(df.Discount.unique())):\n",
    "    print(discount_level, len(df[df['Discount'] == discount_level]))"
   ]
  },
  {
   "cell_type": "markdown",
   "metadata": {},
   "source": [
    "It seems there is not enough orders for some of the discount levels, discount levels of %5, %10, %15, %20, and %25 look good though."
   ]
  },
  {
   "cell_type": "markdown",
   "metadata": {},
   "source": [
    "For each of these discount levels I will make a new DataFrame and repeat the above experiment. If the variances are equal I will use a student's T-test if they are not I will use a welches T-test."
   ]
  },
  {
   "cell_type": "markdown",
   "metadata": {},
   "source": [
    "Assumptions for the student's t-test: <br>\n",
    "* Random Independent Samples\n",
    "* Normality or large sample size\n",
    "* Equal variance"
   ]
  },
  {
   "cell_type": "code",
   "execution_count": 55,
   "metadata": {
    "scrolled": false
   },
   "outputs": [
    {
     "name": "stdout",
     "output_type": "stream",
     "text": [
      "at discount level 0.05, there is a significant increase in order quantity\n",
      "at discount level 0.1, there is a significant increase in order quantity\n",
      "at discount level 0.15, there is a significant increase in order quantity\n",
      "at discount level 0.2, there is a significant increase in order quantity\n",
      "at discount level 0.25, there is a significant increase in order quantity\n"
     ]
    }
   ],
   "source": [
    "# this cell of code was taken from https://github.com/ganevniko/dsc-2-final-project-online-ds-sp-000/blob/master/Project%202%20Student.ipynb\n",
    "for discount_level in [0.05, 0.1, 0.15, 0.2, 0.25]:\n",
    "    new_df = df[df['Discount'] == discount_level].Quantity\n",
    "    # Levene test to test variances\n",
    "    l_stat, l_p_value = stats.levene(new_df, non_discount_orders)\n",
    "    if l_p_value < 0.05:\n",
    "        # Welch's T-test \n",
    "        t_stat, p_value = stats.ttest_ind(new_df, non_discount_orders, equal_var=False) \n",
    "        if (p_value < 0.05) & (new_df.mean() > non_discount_orders.mean()):\n",
    "            print('at discount level {}, there is a significant increase in order quantity'.format(discount_level))\n",
    "        else:\n",
    "            print('at discount level {}, there is NOT a significant increase in order quantity'.format(discount_level))\n",
    "    else:\n",
    "        # Student's T-test\n",
    "        t_stat, p_value = stats.ttest_ind(new_df, non_discount_orders)\n",
    "        if (p_value < 0.05) & (new_df.mean() > non_discount_orders.mean()):\n",
    "            print('at discount level {}, there is a significant increase in order quantity'.format(discount_level))\n",
    "        else:\n",
    "            print('at discount level {}, there is NOT a significant increase in order quantity'.format(discount_level))"
   ]
  },
  {
   "cell_type": "markdown",
   "metadata": {},
   "source": [
    "# Discounts of any amount have a statistically significant impact on increasing quantity in  orders"
   ]
  },
  {
   "cell_type": "markdown",
   "metadata": {},
   "source": [
    "# Question 2: Do different shippers have different freight costs?"
   ]
  },
  {
   "cell_type": "markdown",
   "metadata": {},
   "source": [
    "Some of the code for this question was copied from https://github.com/arcaputo3/dsc-2-final-project-online-ds-sp-000/blob/master/project.ipynb"
   ]
  },
  {
   "cell_type": "markdown",
   "metadata": {},
   "source": [
    "To answer this question I first need to obtain the data. I need the company name from the Shipper table and the freight from the Order table. I will join these tables using the Id column in Shipper and the ShipVia column in order. Finally I will store this data in a pandas DataFrame."
   ]
  },
  {
   "cell_type": "code",
   "execution_count": 56,
   "metadata": {
    "scrolled": false
   },
   "outputs": [
    {
     "name": "stdout",
     "output_type": "stream",
     "text": [
      "<class 'pandas.core.frame.DataFrame'>\n",
      "RangeIndex: 830 entries, 0 to 829\n",
      "Data columns (total 2 columns):\n",
      "CompanyName    830 non-null object\n",
      "Freight        830 non-null float64\n",
      "dtypes: float64(1), object(1)\n",
      "memory usage: 13.0+ KB\n",
      "None\n"
     ]
    },
    {
     "data": {
      "text/html": [
       "<div>\n",
       "<style scoped>\n",
       "    .dataframe tbody tr th:only-of-type {\n",
       "        vertical-align: middle;\n",
       "    }\n",
       "\n",
       "    .dataframe tbody tr th {\n",
       "        vertical-align: top;\n",
       "    }\n",
       "\n",
       "    .dataframe thead th {\n",
       "        text-align: right;\n",
       "    }\n",
       "</style>\n",
       "<table border=\"1\" class=\"dataframe\">\n",
       "  <thead>\n",
       "    <tr style=\"text-align: right;\">\n",
       "      <th></th>\n",
       "      <th>CompanyName</th>\n",
       "      <th>Freight</th>\n",
       "    </tr>\n",
       "  </thead>\n",
       "  <tbody>\n",
       "    <tr>\n",
       "      <th>0</th>\n",
       "      <td>Federal Shipping</td>\n",
       "      <td>32.38</td>\n",
       "    </tr>\n",
       "    <tr>\n",
       "      <th>1</th>\n",
       "      <td>Speedy Express</td>\n",
       "      <td>11.61</td>\n",
       "    </tr>\n",
       "    <tr>\n",
       "      <th>2</th>\n",
       "      <td>United Package</td>\n",
       "      <td>65.83</td>\n",
       "    </tr>\n",
       "    <tr>\n",
       "      <th>3</th>\n",
       "      <td>Speedy Express</td>\n",
       "      <td>41.34</td>\n",
       "    </tr>\n",
       "    <tr>\n",
       "      <th>4</th>\n",
       "      <td>United Package</td>\n",
       "      <td>51.30</td>\n",
       "    </tr>\n",
       "  </tbody>\n",
       "</table>\n",
       "</div>"
      ],
      "text/plain": [
       "        CompanyName  Freight\n",
       "0  Federal Shipping    32.38\n",
       "1    Speedy Express    11.61\n",
       "2    United Package    65.83\n",
       "3    Speedy Express    41.34\n",
       "4    United Package    51.30"
      ]
     },
     "execution_count": 56,
     "metadata": {},
     "output_type": "execute_result"
    }
   ],
   "source": [
    "# This cell of code taken from https://github.com/arcaputo3/dsc-2-final-project-online-ds-sp-000/blob/master/project.ipynb\n",
    "query = \"\"\"\n",
    "SELECT s.CompanyName, o.Freight FROM Shipper AS s JOIN [Order] AS o ON s.ID = o.ShipVia\n",
    "\"\"\"\n",
    "df2 = pd.DataFrame(c.execute(query).fetchall())\n",
    "df2.columns = [x[0] for x in c.description]\n",
    "print(df2.info())\n",
    "df2.head()\n"
   ]
  },
  {
   "cell_type": "markdown",
   "metadata": {},
   "source": [
    "Now I will see how many unique companies we have"
   ]
  },
  {
   "cell_type": "code",
   "execution_count": 57,
   "metadata": {},
   "outputs": [
    {
     "data": {
      "text/plain": [
       "array(['Federal Shipping', 'Speedy Express', 'United Package'],\n",
       "      dtype=object)"
      ]
     },
     "execution_count": 57,
     "metadata": {},
     "output_type": "execute_result"
    }
   ],
   "source": [
    "df2['CompanyName'].unique()"
   ]
  },
  {
   "cell_type": "markdown",
   "metadata": {},
   "source": [
    "There are three unique companies. I will split the DataFrame into three smaller Series, one for the freight costs of each company."
   ]
  },
  {
   "cell_type": "code",
   "execution_count": 58,
   "metadata": {},
   "outputs": [],
   "source": [
    "# This cell of code taken from https://github.com/arcaputo3/dsc-2-final-project-online-ds-sp-000/blob/master/project.ipynb\n",
    "Fed_df = df2[df2['CompanyName'] == 'Federal Shipping'].Freight\n",
    "Speed_df = df2[df2['CompanyName'] == 'Speedy Express'].Freight\n",
    "Unit_df = df2[df2['CompanyName'] == 'United Package'].Freight"
   ]
  },
  {
   "cell_type": "markdown",
   "metadata": {},
   "source": [
    "Since there are more than two groups here we will use the ANOVA test. There are three assumptions in the ANOVA test:<br>\n",
    "* Random Independent samples\n",
    "* Normal distribution or a large sample size\n",
    "* Equal Variance"
   ]
  },
  {
   "cell_type": "markdown",
   "metadata": {},
   "source": [
    "First I will test for equal variance. To do this I will use the levene test in Scipy.stats. If the p-value is larger than 0.05 then we can say that the variances are not significantly different from each other."
   ]
  },
  {
   "cell_type": "code",
   "execution_count": 59,
   "metadata": {
    "scrolled": true
   },
   "outputs": [
    {
     "data": {
      "text/plain": [
       "LeveneResult(statistic=2.962264195050304, pvalue=0.0522505977506296)"
      ]
     },
     "execution_count": 59,
     "metadata": {},
     "output_type": "execute_result"
    }
   ],
   "source": [
    "stats.levene(Fed_df, Speed_df, Unit_df)"
   ]
  },
  {
   "cell_type": "markdown",
   "metadata": {},
   "source": [
    "Since the p-value is greater than 0.05 we can say the variances are equal."
   ]
  },
  {
   "cell_type": "markdown",
   "metadata": {},
   "source": [
    "Next I will check for sufficient sample size"
   ]
  },
  {
   "cell_type": "code",
   "execution_count": 60,
   "metadata": {
    "scrolled": true
   },
   "outputs": [
    {
     "name": "stdout",
     "output_type": "stream",
     "text": [
      "255\n",
      "249\n",
      "326\n"
     ]
    }
   ],
   "source": [
    "for data in [Fed_df, Speed_df, Unit_df]:\n",
    "    print(len(data))"
   ]
  },
  {
   "cell_type": "markdown",
   "metadata": {},
   "source": [
    "There appears to be sufficient sample size"
   ]
  },
  {
   "cell_type": "markdown",
   "metadata": {},
   "source": [
    "Lets formally state the hypotheses and set the alpha to 0.05<br>\n",
    "##### Null hypothesis: There is no significant difference between freight costs of the shippers\n",
    "##### Alternative hypothesis: There is a significant difference between freight costs of the shippers"
   ]
  },
  {
   "cell_type": "markdown",
   "metadata": {},
   "source": [
    "Now lets create an ANOVA table to see if there is a significant difference in the frieght costs of shippers."
   ]
  },
  {
   "cell_type": "code",
   "execution_count": 61,
   "metadata": {
    "scrolled": true
   },
   "outputs": [
    {
     "name": "stdout",
     "output_type": "stream",
     "text": [
      "                      sum_sq     df        F    PR(>F)\n",
      "C(CompanyName)  6.788200e+04    2.0  2.49781  0.082885\n",
      "Residual        1.123753e+07  827.0      NaN       NaN\n"
     ]
    }
   ],
   "source": [
    "formula = \"Freight ~ C(CompanyName)\"\n",
    "lm = ols(formula, df2).fit()\n",
    "table = sm.stats.anova_lm(lm, typ=2)\n",
    "print(table)"
   ]
  },
  {
   "cell_type": "markdown",
   "metadata": {},
   "source": [
    "We see here that p-value is greater than 0.05 so we can NOT reject the null hypothesis"
   ]
  },
  {
   "cell_type": "markdown",
   "metadata": {},
   "source": [
    "To further investigate we can plot the series' distributions as well as their means"
   ]
  },
  {
   "cell_type": "code",
   "execution_count": 62,
   "metadata": {
    "scrolled": false
   },
   "outputs": [
    {
     "name": "stderr",
     "output_type": "stream",
     "text": [
      "C:\\Users\\zasz\\Anaconda3\\envs\\learn-env\\lib\\site-packages\\scipy\\stats\\stats.py:1713: FutureWarning: Using a non-tuple sequence for multidimensional indexing is deprecated; use `arr[tuple(seq)]` instead of `arr[seq]`. In the future this will be interpreted as an array index, `arr[np.array(seq)]`, which will result either in an error or a different result.\n",
      "  return np.add.reduce(sorted[indexer] * weights, axis=axis) / sumval\n"
     ]
    },
    {
     "data": {
      "image/png": "[encoded data removed]",
      "text/plain": [
       "<Figure size 864x576 with 1 Axes>"
      ]
     },
     "metadata": {
      "needs_background": "light"
     },
     "output_type": "display_data"
    }
   ],
   "source": [
    "plt.figure(figsize=(12,8))\n",
    "sns.distplot(Fed_df, label='Federal Shipping')\n",
    "sns.distplot(Speed_df, label='Speedy Express')\n",
    "sns.distplot(Unit_df, label='United Package')\n",
    "plt.axvline(Fed_df.mean(), c='black', linestyle='--', label='Federal Shipping Mean')\n",
    "plt.axvline(Speed_df.mean(), c='black', linestyle='--', label='Speedy Express Mean')\n",
    "plt.axvline(Unit_df.mean(), c='black', linestyle='--', label='United Package Mean')\n",
    "plt.ylabel(\"Probability Density\")\n",
    "plt.legend()\n",
    "plt.show()"
   ]
  },
  {
   "cell_type": "markdown",
   "metadata": {},
   "source": [
    "# There is NOT a statistically significant difference between freight costs of the shippers\n"
   ]
  },
  {
   "cell_type": "markdown",
   "metadata": {},
   "source": [
    "# Question 3: Is there a statistically significant difference in demand of produce each month?"
   ]
  },
  {
   "cell_type": "markdown",
   "metadata": {},
   "source": [
    "Some of the code for this question was copied from https://github.com/arseniyturin/dsc-2-final-project-online-ds-sp-000/blob/master/Project%202%20Student.ipynb"
   ]
  },
  {
   "cell_type": "markdown",
   "metadata": {},
   "source": [
    "First I will obtain the data. This one is a bit complicated. I will select the OrderDate column from Order, and the Quantity column from OrderDetail. I will join Order and OrderDetail by setting Order's Id column equal to OrderDetail's OrderId column. Then I will join that to Product by setting OrderDetail's ProductId column equal to Product's Id column. Then I will join that to Category by setting Product's CategoryId column equal to Category's Id column. Then I will use a \"Where\" clause to retrieve only the orders that deal with produce. Finally I will put the data into a pandas DataFrame."
   ]
  },
  {
   "cell_type": "code",
   "execution_count": 63,
   "metadata": {
    "scrolled": true
   },
   "outputs": [
    {
     "name": "stdout",
     "output_type": "stream",
     "text": [
      "<class 'pandas.core.frame.DataFrame'>\n",
      "RangeIndex: 136 entries, 0 to 135\n",
      "Data columns (total 2 columns):\n",
      "OrderDate    136 non-null object\n",
      "Quantity     136 non-null int64\n",
      "dtypes: int64(1), object(1)\n",
      "memory usage: 2.2+ KB\n",
      "None\n"
     ]
    },
    {
     "data": {
      "text/html": [
       "<div>\n",
       "<style scoped>\n",
       "    .dataframe tbody tr th:only-of-type {\n",
       "        vertical-align: middle;\n",
       "    }\n",
       "\n",
       "    .dataframe tbody tr th {\n",
       "        vertical-align: top;\n",
       "    }\n",
       "\n",
       "    .dataframe thead th {\n",
       "        text-align: right;\n",
       "    }\n",
       "</style>\n",
       "<table border=\"1\" class=\"dataframe\">\n",
       "  <thead>\n",
       "    <tr style=\"text-align: right;\">\n",
       "      <th></th>\n",
       "      <th>OrderDate</th>\n",
       "      <th>Quantity</th>\n",
       "    </tr>\n",
       "  </thead>\n",
       "  <tbody>\n",
       "    <tr>\n",
       "      <th>0</th>\n",
       "      <td>2012-07-05</td>\n",
       "      <td>9</td>\n",
       "    </tr>\n",
       "    <tr>\n",
       "      <th>1</th>\n",
       "      <td>2012-07-05</td>\n",
       "      <td>40</td>\n",
       "    </tr>\n",
       "    <tr>\n",
       "      <th>2</th>\n",
       "      <td>2012-07-08</td>\n",
       "      <td>35</td>\n",
       "    </tr>\n",
       "    <tr>\n",
       "      <th>3</th>\n",
       "      <td>2012-07-11</td>\n",
       "      <td>21</td>\n",
       "    </tr>\n",
       "    <tr>\n",
       "      <th>4</th>\n",
       "      <td>2012-07-22</td>\n",
       "      <td>15</td>\n",
       "    </tr>\n",
       "  </tbody>\n",
       "</table>\n",
       "</div>"
      ],
      "text/plain": [
       "    OrderDate  Quantity\n",
       "0  2012-07-05         9\n",
       "1  2012-07-05        40\n",
       "2  2012-07-08        35\n",
       "3  2012-07-11        21\n",
       "4  2012-07-22        15"
      ]
     },
     "execution_count": 63,
     "metadata": {},
     "output_type": "execute_result"
    }
   ],
   "source": [
    "# This cell of code taken from https://github.com/arseniyturin/dsc-2-final-project-online-ds-sp-000/blob/master/Project%202%20Student.ipynb\n",
    "query = \"\"\"\n",
    "SELECT o.OrderDate, od.Quantity FROM \n",
    "[Order] AS o JOIN OrderDetail AS od ON o.Id = od.OrderId\n",
    "JOIN Product AS p ON od.ProductId = p.Id\n",
    "JOIN Category as c ON p.CategoryId = c.Id\n",
    "WHERE c.CategoryName = 'Produce'\n",
    "\"\"\"\n",
    "\n",
    "df3 = pd.DataFrame(c.execute(query).fetchall())\n",
    "df3.columns = [x[0] for x in c.description]\n",
    "print(df3.info())\n",
    "df3.head()"
   ]
  },
  {
   "cell_type": "markdown",
   "metadata": {},
   "source": [
    "Now I will group the data by month"
   ]
  },
  {
   "cell_type": "code",
   "execution_count": 64,
   "metadata": {
    "scrolled": true
   },
   "outputs": [
    {
     "data": {
      "text/html": [
       "<div>\n",
       "<style scoped>\n",
       "    .dataframe tbody tr th:only-of-type {\n",
       "        vertical-align: middle;\n",
       "    }\n",
       "\n",
       "    .dataframe tbody tr th {\n",
       "        vertical-align: top;\n",
       "    }\n",
       "\n",
       "    .dataframe thead th {\n",
       "        text-align: right;\n",
       "    }\n",
       "</style>\n",
       "<table border=\"1\" class=\"dataframe\">\n",
       "  <thead>\n",
       "    <tr style=\"text-align: right;\">\n",
       "      <th></th>\n",
       "      <th>Quantity</th>\n",
       "    </tr>\n",
       "    <tr>\n",
       "      <th>Month</th>\n",
       "      <th></th>\n",
       "    </tr>\n",
       "  </thead>\n",
       "  <tbody>\n",
       "    <tr>\n",
       "      <th>1</th>\n",
       "      <td>16.545455</td>\n",
       "    </tr>\n",
       "    <tr>\n",
       "      <th>2</th>\n",
       "      <td>15.555556</td>\n",
       "    </tr>\n",
       "    <tr>\n",
       "      <th>3</th>\n",
       "      <td>21.500000</td>\n",
       "    </tr>\n",
       "    <tr>\n",
       "      <th>4</th>\n",
       "      <td>29.105263</td>\n",
       "    </tr>\n",
       "    <tr>\n",
       "      <th>5</th>\n",
       "      <td>12.888889</td>\n",
       "    </tr>\n",
       "    <tr>\n",
       "      <th>6</th>\n",
       "      <td>21.285714</td>\n",
       "    </tr>\n",
       "    <tr>\n",
       "      <th>7</th>\n",
       "      <td>26.375000</td>\n",
       "    </tr>\n",
       "    <tr>\n",
       "      <th>8</th>\n",
       "      <td>15.666667</td>\n",
       "    </tr>\n",
       "    <tr>\n",
       "      <th>9</th>\n",
       "      <td>17.500000</td>\n",
       "    </tr>\n",
       "    <tr>\n",
       "      <th>10</th>\n",
       "      <td>33.250000</td>\n",
       "    </tr>\n",
       "    <tr>\n",
       "      <th>11</th>\n",
       "      <td>16.000000</td>\n",
       "    </tr>\n",
       "    <tr>\n",
       "      <th>12</th>\n",
       "      <td>26.842105</td>\n",
       "    </tr>\n",
       "  </tbody>\n",
       "</table>\n",
       "</div>"
      ],
      "text/plain": [
       "        Quantity\n",
       "Month           \n",
       "1      16.545455\n",
       "2      15.555556\n",
       "3      21.500000\n",
       "4      29.105263\n",
       "5      12.888889\n",
       "6      21.285714\n",
       "7      26.375000\n",
       "8      15.666667\n",
       "9      17.500000\n",
       "10     33.250000\n",
       "11     16.000000\n",
       "12     26.842105"
      ]
     },
     "execution_count": 64,
     "metadata": {},
     "output_type": "execute_result"
    }
   ],
   "source": [
    "# This cell of code taken from https://github.com/arseniyturin/dsc-2-final-project-online-ds-sp-000/blob/master/Project%202%20Student.ipynb\n",
    "df3.OrderDate = pd.to_datetime(df3.OrderDate)\n",
    "df3['Month'] = df3.OrderDate.dt.month\n",
    "df3.groupby('Month').mean()"
   ]
  },
  {
   "cell_type": "markdown",
   "metadata": {},
   "source": [
    "Now I will check each month to make sure it is normally distributed using a ks-test. If the p-value for the test is over 0.05 we can say the data is normally distributed."
   ]
  },
  {
   "cell_type": "code",
   "execution_count": 65,
   "metadata": {},
   "outputs": [],
   "source": [
    "for Month in df3.groupby('Month').Quantity:\n",
    "    stat, p_value = stats.kstest(Month[1], \"norm\", args=(Month[1].mean(), Month[1].std()))\n",
    "    if p_value < 0.05:\n",
    "        print(\"One of the month's data is not normally distributed\")"
   ]
  },
  {
   "cell_type": "markdown",
   "metadata": {},
   "source": [
    "looks like everything is normal."
   ]
  },
  {
   "cell_type": "markdown",
   "metadata": {},
   "source": [
    "Now I will run a levene test on every month to see if they have equal variance. If the p-value of the test is over 0.05 we can say the pieces of data have equal variance."
   ]
  },
  {
   "cell_type": "code",
   "execution_count": 66,
   "metadata": {},
   "outputs": [
    {
     "data": {
      "text/plain": [
       "LeveneResult(statistic=1.0145768797402832, pvalue=0.4375752511991626)"
      ]
     },
     "execution_count": 66,
     "metadata": {},
     "output_type": "execute_result"
    }
   ],
   "source": [
    "Months = list(df3.groupby('Month').Quantity)\n",
    "stats.levene(Months[0][1], Months[1][1], Months[2][1], Months[3][1], Months[4][1], Months[5][1], Months[6][1], Months[7][1], Months[8][1], Months[9][1], Months[10][1], Months[11][1])"
   ]
  },
  {
   "cell_type": "markdown",
   "metadata": {},
   "source": [
    "The variances are equal."
   ]
  },
  {
   "cell_type": "markdown",
   "metadata": {},
   "source": [
    "Now I will do an ANOVA test on the data. I will set the alpha level to 0.05, if the p-value is greater than that we can not reject the null hypothesis. I will formally state the assumptions for the ANOVA test as well as the hypotheses.<br>\n",
    "<br>\n",
    "Assumptions for the ANOVA test are as follows: <br>\n",
    "* Equal Variances in the data\n",
    "* Normally distributed data\n",
    "* Randomally Selected Independent Samples"
   ]
  },
  {
   "cell_type": "markdown",
   "metadata": {},
   "source": [
    "##### Null hypothesis: There is no statistically significant difference in quantity of produce ordered each month.\n",
    "##### Alternative hypothesis There is a statistically significant difference in quantity of produce ordered each month."
   ]
  },
  {
   "cell_type": "code",
   "execution_count": 67,
   "metadata": {
    "scrolled": true
   },
   "outputs": [
    {
     "name": "stdout",
     "output_type": "stream",
     "text": [
      "                sum_sq     df         F    PR(>F)\n",
      "C(Month)   4834.012843   11.0  1.318794  0.221691\n",
      "Residual  41319.957745  124.0       NaN       NaN\n"
     ]
    }
   ],
   "source": [
    "# This cell of code taken from https://github.com/arseniyturin/dsc-2-final-project-online-ds-sp-000/blob/master/Project%202%20Student.ipynb\n",
    "formula = \"Quantity ~ C(Month)\"\n",
    "lm = ols(formula, df3).fit()\n",
    "table = sm.stats.anova_lm(lm, typ=2)\n",
    "print(table)"
   ]
  },
  {
   "cell_type": "markdown",
   "metadata": {},
   "source": [
    "Since the p-value is greater than the alpha level we have failed to reject the null hypothesis."
   ]
  },
  {
   "cell_type": "markdown",
   "metadata": {},
   "source": [
    "# There is NO statistically significant difference in demand of produce each month"
   ]
  },
  {
   "cell_type": "markdown",
   "metadata": {},
   "source": [
    "# Question 4: Do products in the Meat/Poultry category have a higher unit price than products in the Seafood category?"
   ]
  },
  {
   "cell_type": "markdown",
   "metadata": {},
   "source": [
    "First I will obtain the data. I need the UnitPrice column from the Product table and the CategoryName from the Category table. I will join the tables with Product's CategoryID column equal to Category's Id column. Finally I will put the data into a pandas DataFrame."
   ]
  },
  {
   "cell_type": "code",
   "execution_count": 68,
   "metadata": {},
   "outputs": [
    {
     "name": "stdout",
     "output_type": "stream",
     "text": [
      "<class 'pandas.core.frame.DataFrame'>\n",
      "RangeIndex: 77 entries, 0 to 76\n",
      "Data columns (total 2 columns):\n",
      "UnitPrice       77 non-null float64\n",
      "CategoryName    77 non-null object\n",
      "dtypes: float64(1), object(1)\n",
      "memory usage: 1.3+ KB\n",
      "None\n"
     ]
    },
    {
     "data": {
      "text/html": [
       "<div>\n",
       "<style scoped>\n",
       "    .dataframe tbody tr th:only-of-type {\n",
       "        vertical-align: middle;\n",
       "    }\n",
       "\n",
       "    .dataframe tbody tr th {\n",
       "        vertical-align: top;\n",
       "    }\n",
       "\n",
       "    .dataframe thead th {\n",
       "        text-align: right;\n",
       "    }\n",
       "</style>\n",
       "<table border=\"1\" class=\"dataframe\">\n",
       "  <thead>\n",
       "    <tr style=\"text-align: right;\">\n",
       "      <th></th>\n",
       "      <th>UnitPrice</th>\n",
       "      <th>CategoryName</th>\n",
       "    </tr>\n",
       "  </thead>\n",
       "  <tbody>\n",
       "    <tr>\n",
       "      <th>0</th>\n",
       "      <td>18.00</td>\n",
       "      <td>Beverages</td>\n",
       "    </tr>\n",
       "    <tr>\n",
       "      <th>1</th>\n",
       "      <td>19.00</td>\n",
       "      <td>Beverages</td>\n",
       "    </tr>\n",
       "    <tr>\n",
       "      <th>2</th>\n",
       "      <td>10.00</td>\n",
       "      <td>Condiments</td>\n",
       "    </tr>\n",
       "    <tr>\n",
       "      <th>3</th>\n",
       "      <td>22.00</td>\n",
       "      <td>Condiments</td>\n",
       "    </tr>\n",
       "    <tr>\n",
       "      <th>4</th>\n",
       "      <td>21.35</td>\n",
       "      <td>Condiments</td>\n",
       "    </tr>\n",
       "  </tbody>\n",
       "</table>\n",
       "</div>"
      ],
      "text/plain": [
       "   UnitPrice CategoryName\n",
       "0      18.00    Beverages\n",
       "1      19.00    Beverages\n",
       "2      10.00   Condiments\n",
       "3      22.00   Condiments\n",
       "4      21.35   Condiments"
      ]
     },
     "execution_count": 68,
     "metadata": {},
     "output_type": "execute_result"
    }
   ],
   "source": [
    "query = \"\"\"\n",
    "SELECT p.UnitPrice, c.CategoryName FROM Product as p JOIN Category as c ON p.CategoryID = c.Id\n",
    "\"\"\"\n",
    "df4 = pd.DataFrame(c.execute(query).fetchall())\n",
    "df4.columns = [x[0] for x in c.description]\n",
    "print(df4.info())\n",
    "df4.head()"
   ]
  },
  {
   "cell_type": "markdown",
   "metadata": {},
   "source": [
    "Now I will get the names of all the categories"
   ]
  },
  {
   "cell_type": "code",
   "execution_count": 69,
   "metadata": {},
   "outputs": [
    {
     "data": {
      "text/plain": [
       "array(['Beverages', 'Condiments', 'Produce', 'Meat/Poultry', 'Seafood',\n",
       "       'Dairy Products', 'Confections', 'Grains/Cereals'], dtype=object)"
      ]
     },
     "execution_count": 69,
     "metadata": {},
     "output_type": "execute_result"
    }
   ],
   "source": [
    "df4.CategoryName.unique()"
   ]
  },
  {
   "cell_type": "markdown",
   "metadata": {},
   "source": [
    "Now I will create two pandas series. One containing unit prices on meat/poultry and the other containing unit prices on seafood"
   ]
  },
  {
   "cell_type": "code",
   "execution_count": 70,
   "metadata": {},
   "outputs": [
    {
     "name": "stdout",
     "output_type": "stream",
     "text": [
      "8     97.0\n",
      "16    39.0\n",
      "Name: UnitPrice, dtype: float64\n",
      "9     31.0\n",
      "12     6.0\n",
      "Name: UnitPrice, dtype: float64\n",
      "54.00666666666667\n",
      "20.6825\n"
     ]
    }
   ],
   "source": [
    "Meat = df4[df4['CategoryName'] == 'Meat/Poultry'].UnitPrice\n",
    "Seafood = df4[df4['CategoryName'] == 'Seafood'].UnitPrice\n",
    "print(Meat.head(2))\n",
    "print(Seafood.head(2))\n",
    "print(Meat.mean())\n",
    "print(Seafood.mean())"
   ]
  },
  {
   "cell_type": "markdown",
   "metadata": {},
   "source": [
    "Here we can see that the mean unit price for meat/poultry is higher than the mean unit price for seafood. Now Is time for the statistical test. I will first check length of the data and I will check the variances with a levene test to see if the variances are equal. If the resulting p-value is greater than 0.05 we can say that the variances are not significantly different from each other. Then I will test for normality using ks-tests If the p-value for the ks-tests is over 0.05 we can say the distribution is normal."
   ]
  },
  {
   "cell_type": "code",
   "execution_count": 71,
   "metadata": {},
   "outputs": [
    {
     "name": "stdout",
     "output_type": "stream",
     "text": [
      "6 12\n"
     ]
    }
   ],
   "source": [
    "print(len(Meat), len(Seafood))"
   ]
  },
  {
   "cell_type": "code",
   "execution_count": 72,
   "metadata": {},
   "outputs": [
    {
     "data": {
      "text/plain": [
       "LeveneResult(statistic=4.356833516136663, pvalue=0.053214199374865705)"
      ]
     },
     "execution_count": 72,
     "metadata": {},
     "output_type": "execute_result"
    }
   ],
   "source": [
    "stats.levene(Meat, Seafood)"
   ]
  },
  {
   "cell_type": "code",
   "execution_count": 73,
   "metadata": {
    "scrolled": true
   },
   "outputs": [
    {
     "data": {
      "text/plain": [
       "KstestResult(statistic=0.29524198262996504, pvalue=0.5863942867931975)"
      ]
     },
     "execution_count": 73,
     "metadata": {},
     "output_type": "execute_result"
    }
   ],
   "source": [
    "stats.kstest(Meat, \"norm\", args=(Meat.mean(), Meat.std()))"
   ]
  },
  {
   "cell_type": "code",
   "execution_count": 74,
   "metadata": {},
   "outputs": [
    {
     "data": {
      "text/plain": [
       "KstestResult(statistic=0.21071511877100013, pvalue=0.6041337583016011)"
      ]
     },
     "execution_count": 74,
     "metadata": {},
     "output_type": "execute_result"
    }
   ],
   "source": [
    "stats.kstest(Seafood, \"norm\", args=(Seafood.mean(), Seafood.std()))"
   ]
  },
  {
   "cell_type": "markdown",
   "metadata": {},
   "source": [
    "Since the variances are not statistically different I will use a student's T-test. Let me now formally state the assumptions for the student's t-test and the hypotheses. <br>\n",
    "<br>\n",
    "Assumptions for the student's t-test: <br>\n",
    "* Random Independent Samples\n",
    "* Normality or sufficient sample size\n",
    "* Equal variance\n",
    "##### Null hypothesis: Products in the Meat/Poultry category have less than or equal unit price compared to products in the Seafood Category\n",
    "##### Alternative hypothesis: Products in the Meat/Poultry category have a higher unit price than products in the Seafood Category<br>\n",
    "Now its time for the test."
   ]
  },
  {
   "cell_type": "code",
   "execution_count": 75,
   "metadata": {},
   "outputs": [
    {
     "data": {
      "text/plain": [
       "Ttest_indResult(statistic=2.337743630571393, pvalue=0.032718980448459896)"
      ]
     },
     "execution_count": 75,
     "metadata": {},
     "output_type": "execute_result"
    }
   ],
   "source": [
    "stats.ttest_ind(Meat, Seafood)"
   ]
  },
  {
   "cell_type": "markdown",
   "metadata": {},
   "source": [
    "Since the p-value is below 0.05 we can reject the null hypthesis"
   ]
  },
  {
   "cell_type": "markdown",
   "metadata": {},
   "source": [
    "# Products in the Meat/Poultry category have a statistically significant higher unit price than products in the Seafood category."
   ]
  },
  {
   "cell_type": "markdown",
   "metadata": {},
   "source": [
    "# Conclusion"
   ]
  },
  {
   "cell_type": "markdown",
   "metadata": {},
   "source": [
    "We now know that:\n",
    "* Discounts of any level have a statistically significant positive effect on quantity ordered.\n",
    "* There is NOT a statistically significant difference between freight costs of the shippers.\n",
    "* There is NO statistically significant difference in demand of produce each month.\n",
    "* Products in the Meat/Poultry category have a statistically significant higher unit price than products in the Seafood category."
   ]
  },
  {
   "cell_type": "markdown",
   "metadata": {},
   "source": [
    "Business Recomendations:<br>\n",
    "1) If the company needs to get rid of merchandise consider discounting the merchandise. <br>\n",
    "2) Use whatever shipper is most convienient because they all cost the same. <br>\n",
    "3) There is no need to stock up on different amounts of produce each month. <br>\n",
    "4) Focus advertisement on meat and poultry rather than seafood <br>\n"
   ]
  }
 ],
 "metadata": {
  "kernelspec": {
   "display_name": "learn-env",
   "language": "python",
   "name": "learn-env"
  },
  "language_info": {
   "codemirror_mode": {
    "name": "ipython",
    "version": 3
   },
   "file_extension": ".py",
   "mimetype": "text/x-python",
   "name": "python",
   "nbconvert_exporter": "python",
   "pygments_lexer": "ipython3",
   "version": "3.6.6"
  }
 },
 "nbformat": 4,
 "nbformat_minor": 2
}
